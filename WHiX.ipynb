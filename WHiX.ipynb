{
 "cells": [
  {
   "cell_type": "markdown",
   "id": "df72e941",
   "metadata": {},
   "source": [
    "Jackson, Darshil, Talia, and Ahmad World Happiness 2021 Data stuff!"
   ]
  },
  {
   "cell_type": "code",
   "execution_count": 2,
   "id": "c674fa78",
   "metadata": {},
   "outputs": [],
   "source": [
    "import pandas as pd\n",
    "import numpy as np\n",
    "import matplotlib.pyplot as plt\n",
    "import matplotlib.image as mpimg\n",
    "\n",
    "#This is so that you don't see a bunch of code 'warnings' (things that you could change but don't have to right now)\n",
    "import warnings\n",
    "warnings.filterwarnings(\"ignore\")\n",
    "\n",
    "import seaborn as sns\n",
    "\n",
    "#This makes all of our graphs show up in our notebook when they're made\n",
    "%matplotlib inline"
   ]
  },
  {
   "cell_type": "code",
   "execution_count": 3,
   "id": "7116ba00",
   "metadata": {},
   "outputs": [
    {
     "output_type": "execute_result",
     "data": {
      "text/plain": [
       "  Country name Regional indicator  Ladder score  \\\n",
       "0      Finland     Western Europe         7.842   \n",
       "1      Denmark     Western Europe         7.620   \n",
       "2  Switzerland     Western Europe         7.571   \n",
       "3      Iceland     Western Europe         7.554   \n",
       "4  Netherlands     Western Europe         7.464   \n",
       "\n",
       "   Standard error of ladder score  upperwhisker  lowerwhisker  \\\n",
       "0                           0.032         7.904         7.780   \n",
       "1                           0.035         7.687         7.552   \n",
       "2                           0.036         7.643         7.500   \n",
       "3                           0.059         7.670         7.438   \n",
       "4                           0.027         7.518         7.410   \n",
       "\n",
       "   Logged GDP per capita  Social support  Healthy life expectancy  \\\n",
       "0                 10.775           0.954                     72.0   \n",
       "1                 10.933           0.954                     72.7   \n",
       "2                 11.117           0.942                     74.4   \n",
       "3                 10.878           0.983                     73.0   \n",
       "4                 10.932           0.942                     72.4   \n",
       "\n",
       "   Freedom to make life choices  Generosity  Perceptions of corruption  \\\n",
       "0                         0.949      -0.098                      0.186   \n",
       "1                         0.946       0.030                      0.179   \n",
       "2                         0.919       0.025                      0.292   \n",
       "3                         0.955       0.160                      0.673   \n",
       "4                         0.913       0.175                      0.338   \n",
       "\n",
       "   Ladder score in Dystopia  Explained by: Log GDP per capita  \\\n",
       "0                      2.43                             1.446   \n",
       "1                      2.43                             1.502   \n",
       "2                      2.43                             1.566   \n",
       "3                      2.43                             1.482   \n",
       "4                      2.43                             1.501   \n",
       "\n",
       "   Explained by: Social support  Explained by: Healthy life expectancy  \\\n",
       "0                         1.106                                  0.741   \n",
       "1                         1.108                                  0.763   \n",
       "2                         1.079                                  0.816   \n",
       "3                         1.172                                  0.772   \n",
       "4                         1.079                                  0.753   \n",
       "\n",
       "   Explained by: Freedom to make life choices  Explained by: Generosity  \\\n",
       "0                                       0.691                     0.124   \n",
       "1                                       0.686                     0.208   \n",
       "2                                       0.653                     0.204   \n",
       "3                                       0.698                     0.293   \n",
       "4                                       0.647                     0.302   \n",
       "\n",
       "   Explained by: Perceptions of corruption  Dystopia + residual  \n",
       "0                                    0.481                3.253  \n",
       "1                                    0.485                2.868  \n",
       "2                                    0.413                2.839  \n",
       "3                                    0.170                2.967  \n",
       "4                                    0.384                2.798  "
      ],
      "text/html": "<div>\n<style scoped>\n    .dataframe tbody tr th:only-of-type {\n        vertical-align: middle;\n    }\n\n    .dataframe tbody tr th {\n        vertical-align: top;\n    }\n\n    .dataframe thead th {\n        text-align: right;\n    }\n</style>\n<table border=\"1\" class=\"dataframe\">\n  <thead>\n    <tr style=\"text-align: right;\">\n      <th></th>\n      <th>Country name</th>\n      <th>Regional indicator</th>\n      <th>Ladder score</th>\n      <th>Standard error of ladder score</th>\n      <th>upperwhisker</th>\n      <th>lowerwhisker</th>\n      <th>Logged GDP per capita</th>\n      <th>Social support</th>\n      <th>Healthy life expectancy</th>\n      <th>Freedom to make life choices</th>\n      <th>Generosity</th>\n      <th>Perceptions of corruption</th>\n      <th>Ladder score in Dystopia</th>\n      <th>Explained by: Log GDP per capita</th>\n      <th>Explained by: Social support</th>\n      <th>Explained by: Healthy life expectancy</th>\n      <th>Explained by: Freedom to make life choices</th>\n      <th>Explained by: Generosity</th>\n      <th>Explained by: Perceptions of corruption</th>\n      <th>Dystopia + residual</th>\n    </tr>\n  </thead>\n  <tbody>\n    <tr>\n      <th>0</th>\n      <td>Finland</td>\n      <td>Western Europe</td>\n      <td>7.842</td>\n      <td>0.032</td>\n      <td>7.904</td>\n      <td>7.780</td>\n      <td>10.775</td>\n      <td>0.954</td>\n      <td>72.0</td>\n      <td>0.949</td>\n      <td>-0.098</td>\n      <td>0.186</td>\n      <td>2.43</td>\n      <td>1.446</td>\n      <td>1.106</td>\n      <td>0.741</td>\n      <td>0.691</td>\n      <td>0.124</td>\n      <td>0.481</td>\n      <td>3.253</td>\n    </tr>\n    <tr>\n      <th>1</th>\n      <td>Denmark</td>\n      <td>Western Europe</td>\n      <td>7.620</td>\n      <td>0.035</td>\n      <td>7.687</td>\n      <td>7.552</td>\n      <td>10.933</td>\n      <td>0.954</td>\n      <td>72.7</td>\n      <td>0.946</td>\n      <td>0.030</td>\n      <td>0.179</td>\n      <td>2.43</td>\n      <td>1.502</td>\n      <td>1.108</td>\n      <td>0.763</td>\n      <td>0.686</td>\n      <td>0.208</td>\n      <td>0.485</td>\n      <td>2.868</td>\n    </tr>\n    <tr>\n      <th>2</th>\n      <td>Switzerland</td>\n      <td>Western Europe</td>\n      <td>7.571</td>\n      <td>0.036</td>\n      <td>7.643</td>\n      <td>7.500</td>\n      <td>11.117</td>\n      <td>0.942</td>\n      <td>74.4</td>\n      <td>0.919</td>\n      <td>0.025</td>\n      <td>0.292</td>\n      <td>2.43</td>\n      <td>1.566</td>\n      <td>1.079</td>\n      <td>0.816</td>\n      <td>0.653</td>\n      <td>0.204</td>\n      <td>0.413</td>\n      <td>2.839</td>\n    </tr>\n    <tr>\n      <th>3</th>\n      <td>Iceland</td>\n      <td>Western Europe</td>\n      <td>7.554</td>\n      <td>0.059</td>\n      <td>7.670</td>\n      <td>7.438</td>\n      <td>10.878</td>\n      <td>0.983</td>\n      <td>73.0</td>\n      <td>0.955</td>\n      <td>0.160</td>\n      <td>0.673</td>\n      <td>2.43</td>\n      <td>1.482</td>\n      <td>1.172</td>\n      <td>0.772</td>\n      <td>0.698</td>\n      <td>0.293</td>\n      <td>0.170</td>\n      <td>2.967</td>\n    </tr>\n    <tr>\n      <th>4</th>\n      <td>Netherlands</td>\n      <td>Western Europe</td>\n      <td>7.464</td>\n      <td>0.027</td>\n      <td>7.518</td>\n      <td>7.410</td>\n      <td>10.932</td>\n      <td>0.942</td>\n      <td>72.4</td>\n      <td>0.913</td>\n      <td>0.175</td>\n      <td>0.338</td>\n      <td>2.43</td>\n      <td>1.501</td>\n      <td>1.079</td>\n      <td>0.753</td>\n      <td>0.647</td>\n      <td>0.302</td>\n      <td>0.384</td>\n      <td>2.798</td>\n    </tr>\n  </tbody>\n</table>\n</div>"
     },
     "metadata": {},
     "execution_count": 3
    }
   ],
   "source": [
    "wh2021 = pd.read_csv('data/world-happiness-report-2021.csv')\n",
    "wh2021.head()"
   ]
  },
  {
   "cell_type": "code",
   "execution_count": 4,
   "id": "c69347db",
   "metadata": {},
   "outputs": [
    {
     "output_type": "execute_result",
     "data": {
      "text/plain": [
       "  Country name  year  Life Ladder  Log GDP per capita  Social support  \\\n",
       "0  Afghanistan  2008        3.724               7.370           0.451   \n",
       "1  Afghanistan  2009        4.402               7.540           0.552   \n",
       "2  Afghanistan  2010        4.758               7.647           0.539   \n",
       "3  Afghanistan  2011        3.832               7.620           0.521   \n",
       "4  Afghanistan  2012        3.783               7.705           0.521   \n",
       "\n",
       "   Healthy life expectancy at birth  Freedom to make life choices  Generosity  \\\n",
       "0                             50.80                         0.718       0.168   \n",
       "1                             51.20                         0.679       0.190   \n",
       "2                             51.60                         0.600       0.121   \n",
       "3                             51.92                         0.496       0.162   \n",
       "4                             52.24                         0.531       0.236   \n",
       "\n",
       "   Perceptions of corruption  Positive affect  Negative affect  \n",
       "0                      0.882            0.518            0.258  \n",
       "1                      0.850            0.584            0.237  \n",
       "2                      0.707            0.618            0.275  \n",
       "3                      0.731            0.611            0.267  \n",
       "4                      0.776            0.710            0.268  "
      ],
      "text/html": "<div>\n<style scoped>\n    .dataframe tbody tr th:only-of-type {\n        vertical-align: middle;\n    }\n\n    .dataframe tbody tr th {\n        vertical-align: top;\n    }\n\n    .dataframe thead th {\n        text-align: right;\n    }\n</style>\n<table border=\"1\" class=\"dataframe\">\n  <thead>\n    <tr style=\"text-align: right;\">\n      <th></th>\n      <th>Country name</th>\n      <th>year</th>\n      <th>Life Ladder</th>\n      <th>Log GDP per capita</th>\n      <th>Social support</th>\n      <th>Healthy life expectancy at birth</th>\n      <th>Freedom to make life choices</th>\n      <th>Generosity</th>\n      <th>Perceptions of corruption</th>\n      <th>Positive affect</th>\n      <th>Negative affect</th>\n    </tr>\n  </thead>\n  <tbody>\n    <tr>\n      <th>0</th>\n      <td>Afghanistan</td>\n      <td>2008</td>\n      <td>3.724</td>\n      <td>7.370</td>\n      <td>0.451</td>\n      <td>50.80</td>\n      <td>0.718</td>\n      <td>0.168</td>\n      <td>0.882</td>\n      <td>0.518</td>\n      <td>0.258</td>\n    </tr>\n    <tr>\n      <th>1</th>\n      <td>Afghanistan</td>\n      <td>2009</td>\n      <td>4.402</td>\n      <td>7.540</td>\n      <td>0.552</td>\n      <td>51.20</td>\n      <td>0.679</td>\n      <td>0.190</td>\n      <td>0.850</td>\n      <td>0.584</td>\n      <td>0.237</td>\n    </tr>\n    <tr>\n      <th>2</th>\n      <td>Afghanistan</td>\n      <td>2010</td>\n      <td>4.758</td>\n      <td>7.647</td>\n      <td>0.539</td>\n      <td>51.60</td>\n      <td>0.600</td>\n      <td>0.121</td>\n      <td>0.707</td>\n      <td>0.618</td>\n      <td>0.275</td>\n    </tr>\n    <tr>\n      <th>3</th>\n      <td>Afghanistan</td>\n      <td>2011</td>\n      <td>3.832</td>\n      <td>7.620</td>\n      <td>0.521</td>\n      <td>51.92</td>\n      <td>0.496</td>\n      <td>0.162</td>\n      <td>0.731</td>\n      <td>0.611</td>\n      <td>0.267</td>\n    </tr>\n    <tr>\n      <th>4</th>\n      <td>Afghanistan</td>\n      <td>2012</td>\n      <td>3.783</td>\n      <td>7.705</td>\n      <td>0.521</td>\n      <td>52.24</td>\n      <td>0.531</td>\n      <td>0.236</td>\n      <td>0.776</td>\n      <td>0.710</td>\n      <td>0.268</td>\n    </tr>\n  </tbody>\n</table>\n</div>"
     },
     "metadata": {},
     "execution_count": 4
    }
   ],
   "source": [
    "wh = pd.read_csv('data/world-happiness-report.csv')\n",
    "wh.head()"
   ]
  },
  {
   "cell_type": "code",
   "execution_count": 5,
   "metadata": {},
   "outputs": [
    {
     "output_type": "execute_result",
     "data": {
      "text/plain": [
       "(1949, 11)"
      ]
     },
     "metadata": {},
     "execution_count": 5
    }
   ],
   "source": [
    "wh.shape"
   ]
  },
  {
   "cell_type": "code",
   "execution_count": 7,
   "metadata": {},
   "outputs": [
    {
     "output_type": "execute_result",
     "data": {
      "text/plain": [
       "(149, 20)"
      ]
     },
     "metadata": {},
     "execution_count": 7
    }
   ],
   "source": [
    "wh2021.shape"
   ]
  },
  {
   "cell_type": "code",
   "execution_count": null,
   "metadata": {},
   "outputs": [],
   "source": []
  }
 ],
 "metadata": {
  "kernelspec": {
   "name": "python3",
   "display_name": "Python 3.8.10 64-bit ('new-enviro': conda)"
  },
  "language_info": {
   "codemirror_mode": {
    "name": "ipython",
    "version": 3
   },
   "file_extension": ".py",
   "mimetype": "text/x-python",
   "name": "python",
   "nbconvert_exporter": "python",
   "pygments_lexer": "ipython3",
   "version": "3.8.10"
  },
  "interpreter": {
   "hash": "d964b879161eec9d37ec393faa1aa11dbdf593d71490c78219b6abe03b0d95d5"
  }
 },
 "nbformat": 4,
 "nbformat_minor": 5
}